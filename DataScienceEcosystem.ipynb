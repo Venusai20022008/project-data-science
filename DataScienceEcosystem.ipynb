{
  "nbformat": 4,
  "nbformat_minor": 0,
  "metadata": {
    "colab": {
      "provenance": []
    },
    "kernelspec": {
      "name": "python3",
      "display_name": "Python 3"
    },
    "language_info": {
      "name": "python"
    }
  },
  "cells": [
    {
      "cell_type": "code",
      "execution_count": 4,
      "metadata": {
        "colab": {
          "base_uri": "https://localhost:8080/"
        },
        "id": "tQTN5ELTZvOn",
        "outputId": "226c8ec5-6e11-46e3-8606-ddc675a75fd1"
      },
      "outputs": [
        {
          "output_type": "stream",
          "name": "stdout",
          "text": [
            "Data Science Tools and Ecosystem\n"
          ]
        }
      ],
      "source": [
        "print(\"Data Science Tools and Ecosystem\")"
      ]
    },
    {
      "cell_type": "code",
      "source": [
        "print(\"In this notebook, Data Science Tools and Ecosystem are summarized.\")"
      ],
      "metadata": {
        "colab": {
          "base_uri": "https://localhost:8080/"
        },
        "id": "fljdYYUxaqVc",
        "outputId": "e1c558de-5b06-4914-bff5-cbe92daf3bb9"
      },
      "execution_count": 5,
      "outputs": [
        {
          "output_type": "stream",
          "name": "stdout",
          "text": [
            "In this notebook, Data Science Tools and Ecosystem are summarized.\n"
          ]
        }
      ]
    },
    {
      "cell_type": "code",
      "source": [
        "print(\"Some of the popular languages that Data Scientists use are:\")\n",
        "a = [\"Python\", \"R\", \"SQL\", \"JAVA\", \"SWIFT\"]\n",
        "s = sorted(a)\n",
        "print(s)"
      ],
      "metadata": {
        "colab": {
          "base_uri": "https://localhost:8080/"
        },
        "id": "7apFddqRa5d_",
        "outputId": "71eeac52-4b7d-4cb2-ef01-fc85d71c3d4b"
      },
      "execution_count": 7,
      "outputs": [
        {
          "output_type": "stream",
          "name": "stdout",
          "text": [
            "Some of the popular languages that Data Scientists use are:\n",
            "['JAVA', 'Python', 'R', 'SQL', 'SWIFT']\n"
          ]
        }
      ]
    },
    {
      "cell_type": "code",
      "source": [
        "print(\"Some of the commonly used libraries used by Data Scientists include:\")\n",
        "a = [\"Tensorflow\", \"Numpy\", \"Scipy\", \"Matplotlib\", \"Scikit-leearn\"]\n",
        "s = sorted(a)\n",
        "print(s)"
      ],
      "metadata": {
        "colab": {
          "base_uri": "https://localhost:8080/"
        },
        "id": "CW5EQULrb0h9",
        "outputId": "06d87599-50f3-429b-a865-0f2551eeb308"
      },
      "execution_count": 8,
      "outputs": [
        {
          "output_type": "stream",
          "name": "stdout",
          "text": [
            "Some of the commonly used libraries used by Data Scientists include:\n",
            "['Matplotlib', 'Numpy', 'Scikit-leearn', 'Scipy', 'Tensorflow']\n"
          ]
        }
      ]
    },
    {
      "cell_type": "code",
      "source": [
        "print(\"  Data Science Tools\")\n",
        "print(\"|____________________|\")\n",
        "print(\"  Rstudio\")\n",
        "print(\"|____________________|\")\n",
        "print(\"  Tensorflow\")\n",
        "print(\"|____________________|\")\n",
        "print(\"  Apache spark\")\n",
        "print(\"|____________________|\")"
      ],
      "metadata": {
        "colab": {
          "base_uri": "https://localhost:8080/"
        },
        "id": "xOyO9LCjcey9",
        "outputId": "669857c3-d210-4111-9a95-eb9aa8a1f6b5"
      },
      "execution_count": 13,
      "outputs": [
        {
          "output_type": "stream",
          "name": "stdout",
          "text": [
            "  Data Science Tools\n",
            "|____________________|\n",
            "  Rstudio\n",
            "|____________________|\n",
            "  Tensorflow\n",
            "|____________________|\n",
            "  Apache spark\n",
            "|____________________|\n"
          ]
        }
      ]
    },
    {
      "cell_type": "code",
      "source": [
        "print(\"Below are a few examples of evaluating arithmetic expressions in Python\")\n",
        "a = 10\n",
        "b = 9\n",
        "print(a*b)"
      ],
      "metadata": {
        "colab": {
          "base_uri": "https://localhost:8080/"
        },
        "id": "3XXKzqkWdn5P",
        "outputId": "c72f7d7d-534f-4895-9768-be213a185c87"
      },
      "execution_count": 14,
      "outputs": [
        {
          "output_type": "stream",
          "name": "stdout",
          "text": [
            "Below are a few examples of evaluating arithmetic expressions in Python\n",
            "90\n"
          ]
        }
      ]
    },
    {
      "cell_type": "code",
      "source": [
        "#This a simple arithmetic expression to mutiply then add integers\n",
        "a = 3\n",
        "b = 4\n",
        "c = 5\n",
        "print((a*b)+c)"
      ],
      "metadata": {
        "colab": {
          "base_uri": "https://localhost:8080/"
        },
        "id": "nvVFAaEceCAQ",
        "outputId": "9e2299d0-187e-4189-8c78-4d00503205dd"
      },
      "execution_count": 15,
      "outputs": [
        {
          "output_type": "stream",
          "name": "stdout",
          "text": [
            "17\n"
          ]
        }
      ]
    },
    {
      "cell_type": "code",
      "source": [
        "m = 200\n",
        "#This will convert 200 minutes to hours by diving by 60\n",
        "h = m/60\n",
        "print(h)"
      ],
      "metadata": {
        "colab": {
          "base_uri": "https://localhost:8080/"
        },
        "id": "tysZtBZpfDth",
        "outputId": "f2d4c160-4109-4304-a2af-d0d2e1ebb223"
      },
      "execution_count": 16,
      "outputs": [
        {
          "output_type": "stream",
          "name": "stdout",
          "text": [
            "3.3333333333333335\n"
          ]
        }
      ]
    },
    {
      "cell_type": "code",
      "source": [
        "print(\"Objectives:\")\n",
        "a = [\"Python\", \"R\", \"SQL\", \"JAVA\", \"SWIFT\"]\n",
        "print(a)"
      ],
      "metadata": {
        "colab": {
          "base_uri": "https://localhost:8080/"
        },
        "id": "MdKrF7nsfD0K",
        "outputId": "11db8c18-30eb-4902-c7c7-1eb623411ad0"
      },
      "execution_count": 17,
      "outputs": [
        {
          "output_type": "stream",
          "name": "stdout",
          "text": [
            "Objectives:\n",
            "['Python', 'R', 'SQL', 'JAVA', 'SWIFT']\n"
          ]
        }
      ]
    },
    {
      "cell_type": "code",
      "source": [
        "print(\"Author\")\n",
        "print(\"Venu krithik bhogavelli\")"
      ],
      "metadata": {
        "colab": {
          "base_uri": "https://localhost:8080/"
        },
        "id": "pFteMQ6vgQ_Y",
        "outputId": "5f33f703-b2d3-4481-bece-9a60183a7b53"
      },
      "execution_count": 18,
      "outputs": [
        {
          "output_type": "stream",
          "name": "stdout",
          "text": [
            "Author\n",
            "Venu krithik bhogavelli\n"
          ]
        }
      ]
    }
  ]
}